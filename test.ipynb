{
 "cells": [
  {
   "cell_type": "code",
   "execution_count": 13,
   "metadata": {},
   "outputs": [
    {
     "name": "stdout",
     "output_type": "stream",
     "text": [
      "['▁안녕하세요', '▁반갑습니다', '.']\n",
      "['▁', '안', '녕', '하', '세', '요', '▁', '반', '갑', '습', '니', '다', '.']\n"
     ]
    }
   ],
   "source": [
    "import sentencepiece as spm\n",
    "\n",
    "model = 'data/sp/subword_tokenizer_ko.model'\n",
    "model2 = 'data/sp/char_tokenizer_ko.model'\n",
    "input = '안녕하세요 반갑습니다.'\n",
    "\n",
    "sp = spm.SentencePieceProcessor()\n",
    "sp.Load(model)\n",
    "ret = sp.encode(input, out_type=str)\n",
    "print(ret)\n",
    "\n",
    "sp.Load(model2)\n",
    "ret = sp.encode(input, out_type=str)\n",
    "print(ret)"
   ]
  },
  {
   "cell_type": "code",
   "execution_count": null,
   "metadata": {},
   "outputs": [],
   "source": []
  }
 ],
 "metadata": {
  "kernelspec": {
   "display_name": "Python 3.10.7 ('.venv': venv)",
   "language": "python",
   "name": "python3"
  },
  "language_info": {
   "name": "python",
   "version": "3.10.7"
  },
  "orig_nbformat": 4,
  "vscode": {
   "interpreter": {
    "hash": "132459bada758a19c9f308325c6a72cf8ab308bbaa62fef58ec4bb5cd6c48c59"
   }
  }
 },
 "nbformat": 4,
 "nbformat_minor": 2
}
