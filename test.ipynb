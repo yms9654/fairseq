{
 "cells": [
  {
   "cell_type": "code",
   "execution_count": null,
   "metadata": {},
   "outputs": [],
   "source": [
    "import torch\n",
    "\n",
    "# List available models\n",
    "torch.hub.list('pytorch/fairseq')  # [..., 'transformer.wmt16.en-de', ... ]\n",
    "\n",
    "# Load a transformer trained on WMT'16 En-De\n",
    "# Note: WMT'19 models use fastBPE instead of subword_nmt, see instructions below\n",
    "en2de = torch.hub.load('pytorch/fairseq', 'transformer.wmt16.en-de',\n",
    "                       tokenizer='moses', bpe='subword_nmt')\n",
    "en2de.eval()  # disable dropout\n",
    "\n",
    "# The underlying model is available under the *models* attribute\n",
    "assert isinstance(en2de.models[0], fairseq.models.transformer.TransformerModel)\n",
    "\n",
    "# Move model to GPU for faster translation\n",
    "en2de.cuda()\n",
    "\n",
    "# Translate a sentence\n",
    "en2de.translate('Hello world!')\n",
    "# 'Hallo Welt!'\n",
    "\n",
    "# Batched translation\n",
    "en2de.translate(['Hello world!', 'The cat sat on the mat.'])\n",
    "# ['Hallo Welt!', 'Die Katze saß auf der Matte.']"
   ]
  },
  {
   "cell_type": "code",
   "execution_count": null,
   "metadata": {},
   "outputs": [],
   "source": [
    "en2de = torch.hub.load('pytorch/fairseq', 'transformer.wmt19.en-de.single_model')\n",
    "en2de.translate('Hello world', beam=5)\n",
    "# 'Hallo Welt'"
   ]
  },
  {
   "cell_type": "markdown",
   "metadata": {},
   "source": [
    "# Download and prepare the data\n",
    "cd examples/translation/\n",
    "bash prepare-iwslt14.sh\n",
    "cd ../..\n",
    "\n",
    "# Preprocess/binarize the data\n",
    "TEXT=examples/translation/iwslt14.tokenized.de-en\n",
    "fairseq-preprocess --source-lang de --target-lang en \\\n",
    "    --trainpref $TEXT/train --validpref $TEXT/valid --testpref $TEXT/test \\\n",
    "    --destdir data-bin/iwslt14.tokenized.de-en \\\n",
    "    --workers 20"
   ]
  }
 ],
 "metadata": {
  "kernelspec": {
   "display_name": "Python 3.10.7 ('.venv': venv)",
   "language": "python",
   "name": "python3"
  },
  "language_info": {
   "codemirror_mode": {
    "name": "ipython",
    "version": 3
   },
   "file_extension": ".py",
   "mimetype": "text/x-python",
   "name": "python",
   "nbconvert_exporter": "python",
   "pygments_lexer": "ipython3",
   "version": "3.10.7"
  },
  "orig_nbformat": 4,
  "vscode": {
   "interpreter": {
    "hash": "b5f2c0ac3f83fe6789b9f67cfed0d844eb69c1af5f7588e8749ce334ecfadb5e"
   }
  }
 },
 "nbformat": 4,
 "nbformat_minor": 2
}
